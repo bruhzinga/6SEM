{
 "cells": [
  {
   "cell_type": "code",
   "execution_count": 1,
   "metadata": {},
   "outputs": [
    {
     "name": "stdout",
     "output_type": "stream",
     "text": [
      "версия Python: 3.11.1 (tags/v3.11.1:a7a450f, Dec  6 2022, 19:58:39) [MSC v.1934 64 bit (AMD64)]\n",
      "версия pandas: 1.5.3\n",
      "версия matplotlib: 3.6.3\n",
      "версия NumPy: 1.24.2\n",
      "версия SciPy: 1.10.0\n",
      "версия IPython: 8.9.0\n",
      "версия scikit-learn: 1.2.1\n"
     ]
    }
   ],
   "source": [
    "import sys;\n",
    "import pandas;\n",
    "import matplotlib;\n",
    "import numpy;\n",
    "import scipy;\n",
    "import IPython;\n",
    "import sklearn;\n",
    "\n",
    "print(\"версия Python: {}\".format(sys.version))\n",
    "print(\"версия pandas: {}\".format(pandas.__version__))\n",
    "print(\"версия matplotlib: {}\".format(matplotlib.__version__))\n",
    "print(\"версия NumPy: {}\".format(numpy.__version__))\n",
    "print(\"версия SciPy: {}\".format(scipy.__version__))\n",
    "print(\"версия IPython: {}\".format(IPython.__version__))\n",
    "print(\"версия scikit-learn: {}\".format(sklearn.__version__))\n"
   ]
  },
  {
   "cell_type": "code",
   "execution_count": null,
   "metadata": {},
   "outputs": [],
   "source": []
  }
 ],
 "metadata": {
  "kernelspec": {
   "display_name": "Python 3",
   "language": "python",
   "name": "python3"
  },
  "language_info": {
   "codemirror_mode": {
    "name": "ipython",
    "version": 3
   },
   "file_extension": ".py",
   "mimetype": "text/x-python",
   "name": "python",
   "nbconvert_exporter": "python",
   "pygments_lexer": "ipython3",
   "version": "3.11.1"
  },
  "orig_nbformat": 4,
  "vscode": {
   "interpreter": {
    "hash": "df7328e814b316b1e1a17499c8ee6d0f88fbfa68f71091a50220b004c68ad64d"
   }
  }
 },
 "nbformat": 4,
 "nbformat_minor": 2
}
